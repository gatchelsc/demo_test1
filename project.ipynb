{
    "cells": [
        {
            "cell_type": "markdown",
            "metadata": {
                "collapsed": true
            },
            "source": "## My Jupter Notebook on IBM Watson Studio"
        },
        {
            "cell_type": "markdown",
            "metadata": {},
            "source": "#### Crystal Gatchel"
        },
        {
            "cell_type": "markdown",
            "metadata": {},
            "source": "###### 100% Human"
        },
        {
            "cell_type": "markdown",
            "metadata": {},
            "source": "###### I am interested in data science because I love to gain insights from data"
        },
        {
            "cell_type": "markdown",
            "metadata": {},
            "source": "### The following code tests the Gauss formula"
        },
        {
            "cell_type": "markdown",
            "metadata": {},
            "source": "def gauss(n):\n    return (n*(n+1))/2\ngauss(100) == sum(range(101))"
        },
        {
            "cell_type": "code",
            "execution_count": null,
            "metadata": {},
            "outputs": [],
            "source": ""
        }
    ],
    "metadata": {
        "kernelspec": {
            "display_name": "Python 3.9",
            "language": "python",
            "name": "python3"
        },
        "language_info": {
            "codemirror_mode": {
                "name": "ipython",
                "version": 3
            },
            "file_extension": ".py",
            "mimetype": "text/x-python",
            "name": "python",
            "nbconvert_exporter": "python",
            "pygments_lexer": "ipython3",
            "version": "3.9.7"
        }
    },
    "nbformat": 4,
    "nbformat_minor": 1
}